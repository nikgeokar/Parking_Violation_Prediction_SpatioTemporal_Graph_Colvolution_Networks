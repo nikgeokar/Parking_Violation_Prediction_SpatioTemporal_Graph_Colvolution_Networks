{
 "cells": [
  {
   "cell_type": "code",
   "execution_count": 44,
   "metadata": {},
   "outputs": [],
   "source": [
    "import networkx as nx\n",
    "import pandas as pd\n",
    "import pickle\n",
    "import numpy as np\n",
    "import geopy.distance\n",
    "import matplotlib.pyplot as plt\n",
    "from tqdm import tqdm\n",
    "import os\n",
    "import osmnx as ox\n",
    "import networkx as nx\n",
    "import pandas as pd\n",
    "import networkx as nx\n",
    "import matplotlib.pyplot as plt\n",
    "from mpl_toolkits.basemap import Basemap as Basemap\n",
    "\n",
    "Project_Path='/Users/nickkarras/PycharmProjects/ParkingViolationPredictionGraph_Git'"
   ]
  },
  {
   "cell_type": "markdown",
   "metadata": {},
   "source": [
    "# Import Basic Infos"
   ]
  },
  {
   "cell_type": "code",
   "execution_count": 34,
   "metadata": {},
   "outputs": [],
   "source": [
    "Sectors=pd.read_csv(Project_Path+ '/Data/Parking_Slot_Proccesed.csv',sep=',', index_col=0)\n",
    "Nodelist=Sectors[['Slot_id','Latitude','Longitude']]\n",
    "Legal_Ilegan=pd.read_csv(Project_Path+ '/Data/Scan_Data_Reg_2.3.csv',sep=',',index_col=0)\n",
    "Unique_Sectors=Legal_Ilegan['Slot_id'].unique()\n",
    "Unique_Sectors=pd.DataFrame(Unique_Sectors, columns=['Slot_id'])\n",
    "Nodelist=pd.merge(Unique_Sectors,Nodelist, on='Slot_id')\n",
    "\n",
    "with open(Project_Path+'Data/Dataset_Graph.pkl', 'rb') as inp:\n",
    "    Train_Dataset = pickle.load(inp)\n",
    "with open(Project_Path+'Data/Test_Dataset_Graph.pkl', 'rb') as inp:\n",
    "    Test_Dataset = pickle.load(inp)"
   ]
  },
  {
   "cell_type": "markdown",
   "metadata": {},
   "source": [
    "# Find Duration using API"
   ]
  },
  {
   "cell_type": "code",
   "execution_count": 35,
   "metadata": {},
   "outputs": [],
   "source": [
    "import json\n",
    "import openrouteservice\n",
    "\n",
    "def get_Duration(long1,lat1,long2,lat2):\n",
    "    coords = ((long1,lat1),(long2,lat2))\n",
    "    client = openrouteservice.Client(key='test')\n",
    "    res = client.directions(coords)\n",
    "    #set location coordinates in longitude,latitude order\n",
    "\n",
    "    #call API\n",
    "    res = client.directions(coords)\n",
    "    #test our response\n",
    "    with(open(Project_Path+'Data/ETA.json','+w')) as f:\n",
    "        f.write(json.dumps(res,indent=4, sort_keys=True))\n",
    "\n",
    "\n",
    "    f = open('ETA.json')\n",
    "\n",
    "    # returns JSON object as \n",
    "    # a dictionary\n",
    "    data = json.load(f)\n",
    "\n",
    "    # Iterating through the json\n",
    "    # list\n",
    "    duration=data['routes'][0]['segments'][0]['duration']\n",
    "    #Edge_Weights.append(Time_Distance)\n",
    "\n",
    "    # Closing file\n",
    "    f.close()\n",
    "    return duration"
   ]
  },
  {
   "cell_type": "code",
   "execution_count": 36,
   "metadata": {},
   "outputs": [],
   "source": [
    "def Normalize_Edgedata(Targets):\n",
    "    Targets = (((0.9-0.1) * (Targets - np.min(Targets))) / (np.max(Targets) - np.min(Targets))) + 0.1\n",
    "    return Targets"
   ]
  },
  {
   "cell_type": "markdown",
   "metadata": {},
   "source": [
    "# Find All Combinations"
   ]
  },
  {
   "cell_type": "code",
   "execution_count": 37,
   "metadata": {},
   "outputs": [],
   "source": [
    "def Get_Neighbors(Nodelist): \n",
    "    List=Nodelist.values.tolist()\n",
    "    x=[]\n",
    "    for i in range (0,len(List)):\n",
    "        for k in range (0,len(List)):\n",
    "             if List[i][0]!=List[k][0]:\n",
    "                ed=[]\n",
    "                ed.append(List[i])\n",
    "                ed.append(List[k])\n",
    "                x.append(ed)\n",
    "\n",
    "    Edge_W=[]\n",
    "    for i in tqdm(range (0,len(x))):\n",
    "        Distance=[]\n",
    "        b= geopy.distance.geodesic((x[i][1][1],x[i][1][2]), (x[i][0][1],x[i][0][2])).m\n",
    "        if b<250:\n",
    "\n",
    "            d=get_Duration(x[i][1][2],x[i][1][1], x[i][0][2],x[i][0][1])\n",
    "            Distance.append(x[i][0][0])\n",
    "            Distance.append(x[i][1][0])\n",
    "            Distance.append(d)\n",
    "            Edge_W.append(Distance)\n",
    "    return Edge_W\n",
    "    "
   ]
  },
  {
   "cell_type": "code",
   "execution_count": 38,
   "metadata": {},
   "outputs": [],
   "source": [
    "def Preprocess_Weights(Edge_W):\n",
    "    Weights=pd.DataFrame(Edge_W, columns=['Sector_1','Sector_2','Duration'])\n",
    "    Weights['Sector_2']=Weights['Sector_2'].astype(int)\n",
    "    Weights['Sector_1']=Weights['Sector_1'].astype(int)\n",
    "    Weights['Duration']=Normalize_Edgedata(a['Duration'])\n",
    "    Weights.Duration= 1-Weights.Duration\n",
    "    return Weights"
   ]
  },
  {
   "cell_type": "markdown",
   "metadata": {},
   "source": [
    "# Add self-edges"
   ]
  },
  {
   "cell_type": "code",
   "execution_count": 39,
   "metadata": {},
   "outputs": [],
   "source": [
    "def Add_Self_Edges(Weights,Nodelist):\n",
    "    Comb=[]\n",
    "    N_List=Nodelist.values.tolist()\n",
    "    for i in range (0,len(N_List)):\n",
    "        Comb.append(N_List[i][0])\n",
    "    Merged=pd.DataFrame(Comb,columns=['Sector_1'])\n",
    "    Merged['Sector_2']=Comb\n",
    "    Merged['Duration']=1\n",
    "    \n",
    "    Edgelist = pd.concat([Weights,Merged])\n",
    "    \n",
    "    Edgelist=Edgelist.reset_index()\n",
    "    Edgelist=Edgelist.drop(['index'], axis=1)\n",
    "    Edgelist['Sector_1']=Edgelist['Sector_1'].astype(int)\n",
    "    Edgelist['Sector_2']=Edgelist['Sector_2'].astype(int)\n",
    "    return Edgelist"
   ]
  },
  {
   "cell_type": "markdown",
   "metadata": {},
   "source": [
    "# Prepare edges for model"
   ]
  },
  {
   "cell_type": "code",
   "execution_count": 40,
   "metadata": {},
   "outputs": [],
   "source": [
    "def Get_Final_Edges(Edgelist,Train_Dataset,Test_Dataset):\n",
    "    Slot_idx = {name: idx for idx, name in enumerate(sorted(Train_Dataset[6][\"Slot_id\"].unique()))}\n",
    "    for i in tqdm (range(0,len(Train_Dataset))):\n",
    "        Train_Dataset[i][\"Slot_id\"] = Train_Dataset[i][\"Slot_id\"].apply(lambda name: Slot_idx[name])\n",
    "\n",
    "    for j in tqdm (range(0,len(Test_Dataset))):\n",
    "        Test_Dataset[j][\"Slot_id\"] = Test_Dataset[j][\"Slot_id\"].apply(lambda name: Slot_idx[name])\n",
    "\n",
    "    Edgelist[\"Sector_1\"] = Edgelist[\"Sector_1\"].apply(lambda name: Slot_idx[name])\n",
    "    Edgelist[\"Sector_2\"] = Edgelist[\"Sector_2\"].apply(lambda name: Slot_idx[name])\n",
    "    return Edgelist"
   ]
  },
  {
   "cell_type": "code",
   "execution_count": 41,
   "metadata": {},
   "outputs": [],
   "source": [
    "def Graph_Edges(Nodelist,Train_Dataset,Test_Dataset):\n",
    "    Edge_W=Get_Neighbors(Nodelist)\n",
    "    Weights=Preprocess_Weights(Edge_W)\n",
    "    Edgelist=Add_Self_Edges(Weights,Nodelist)\n",
    "    Edgelist=Get_Final_Edges(Edgelist,Train_Dataset,Test_Dataset)\n",
    "    return Edgelist"
   ]
  },
  {
   "cell_type": "code",
   "execution_count": 43,
   "metadata": {},
   "outputs": [
    {
     "name": "stderr",
     "output_type": "stream",
     "text": [
      "100%|██████████| 49062/49062 [00:03<00:00, 12928.79it/s]\n"
     ]
    },
    {
     "data": {
      "text/html": [
       "<div>\n",
       "<style scoped>\n",
       "    .dataframe tbody tr th:only-of-type {\n",
       "        vertical-align: middle;\n",
       "    }\n",
       "\n",
       "    .dataframe tbody tr th {\n",
       "        vertical-align: top;\n",
       "    }\n",
       "\n",
       "    .dataframe thead th {\n",
       "        text-align: right;\n",
       "    }\n",
       "</style>\n",
       "<table border=\"1\" class=\"dataframe\">\n",
       "  <thead>\n",
       "    <tr style=\"text-align: right;\">\n",
       "      <th></th>\n",
       "      <th>Sector_1</th>\n",
       "      <th>Sector_2</th>\n",
       "      <th>Duration</th>\n",
       "    </tr>\n",
       "  </thead>\n",
       "  <tbody>\n",
       "    <tr>\n",
       "      <th>0</th>\n",
       "      <td>10</td>\n",
       "      <td>11</td>\n",
       "      <td>0.759558</td>\n",
       "    </tr>\n",
       "    <tr>\n",
       "      <th>1</th>\n",
       "      <td>10</td>\n",
       "      <td>17963</td>\n",
       "      <td>0.330508</td>\n",
       "    </tr>\n",
       "    <tr>\n",
       "      <th>2</th>\n",
       "      <td>10</td>\n",
       "      <td>18143</td>\n",
       "      <td>0.586974</td>\n",
       "    </tr>\n",
       "    <tr>\n",
       "      <th>3</th>\n",
       "      <td>10</td>\n",
       "      <td>18144</td>\n",
       "      <td>0.521837</td>\n",
       "    </tr>\n",
       "    <tr>\n",
       "      <th>4</th>\n",
       "      <td>10</td>\n",
       "      <td>18224</td>\n",
       "      <td>0.542258</td>\n",
       "    </tr>\n",
       "    <tr>\n",
       "      <th>...</th>\n",
       "      <td>...</td>\n",
       "      <td>...</td>\n",
       "      <td>...</td>\n",
       "    </tr>\n",
       "    <tr>\n",
       "      <th>5833</th>\n",
       "      <td>93</td>\n",
       "      <td>93</td>\n",
       "      <td>1.000000</td>\n",
       "    </tr>\n",
       "    <tr>\n",
       "      <th>5834</th>\n",
       "      <td>94</td>\n",
       "      <td>94</td>\n",
       "      <td>1.000000</td>\n",
       "    </tr>\n",
       "    <tr>\n",
       "      <th>5835</th>\n",
       "      <td>95</td>\n",
       "      <td>95</td>\n",
       "      <td>1.000000</td>\n",
       "    </tr>\n",
       "    <tr>\n",
       "      <th>5836</th>\n",
       "      <td>96</td>\n",
       "      <td>96</td>\n",
       "      <td>1.000000</td>\n",
       "    </tr>\n",
       "    <tr>\n",
       "      <th>5837</th>\n",
       "      <td>98</td>\n",
       "      <td>98</td>\n",
       "      <td>1.000000</td>\n",
       "    </tr>\n",
       "  </tbody>\n",
       "</table>\n",
       "<p>5838 rows × 3 columns</p>\n",
       "</div>"
      ],
      "text/plain": [
       "      Sector_1  Sector_2  Duration\n",
       "0           10        11  0.759558\n",
       "1           10     17963  0.330508\n",
       "2           10     18143  0.586974\n",
       "3           10     18144  0.521837\n",
       "4           10     18224  0.542258\n",
       "...        ...       ...       ...\n",
       "5833        93        93  1.000000\n",
       "5834        94        94  1.000000\n",
       "5835        95        95  1.000000\n",
       "5836        96        96  1.000000\n",
       "5837        98        98  1.000000\n",
       "\n",
       "[5838 rows x 3 columns]"
      ]
     },
     "execution_count": 43,
     "metadata": {},
     "output_type": "execute_result"
    }
   ],
   "source": [
    "Edgelist=Graph_Edges(Nodelist,Train_Dataset,Test_Dataset)\n",
    "Edgelist.to_csv(Project_Path+ '/Data/EdgesDuration250.csv')"
   ]
  },
  {
   "cell_type": "code",
   "execution_count": null,
   "metadata": {},
   "outputs": [],
   "source": []
  }
 ],
 "metadata": {
  "kernelspec": {
   "display_name": "tf2.7",
   "language": "python",
   "name": "tf2.7"
  },
  "language_info": {
   "codemirror_mode": {
    "name": "ipython",
    "version": 3
   },
   "file_extension": ".py",
   "mimetype": "text/x-python",
   "name": "python",
   "nbconvert_exporter": "python",
   "pygments_lexer": "ipython3",
   "version": "3.8.13"
  }
 },
 "nbformat": 4,
 "nbformat_minor": 1
}
